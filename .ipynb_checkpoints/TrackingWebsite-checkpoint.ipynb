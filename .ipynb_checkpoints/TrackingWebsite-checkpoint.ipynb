{
 "cells": [
  {
   "cell_type": "markdown",
   "id": "d5ae46e6-4282-4efb-8e29-862836b62d6f",
   "metadata": {},
   "source": [
    "# check monthly updates"
   ]
  },
  {
   "cell_type": "code",
   "execution_count": 50,
   "id": "1927e437-6130-4433-b1b3-924bf22bb2f2",
   "metadata": {
    "scrolled": true
   },
   "outputs": [],
   "source": [
    "import requests\n",
    "import hashlib\n",
    "import time\n",
    "from datetime import datetime\n",
    "import pandas as pd\n",
    "import os\n",
    "# Function to get the hash of a webpage content\n",
    "def get_page_hash(url):\n",
    "    response = requests.get(url)\n",
    "    # Ensure successful response\n",
    "    if response.status_code == 200:\n",
    "        hash = hashlib.sha256(response.content).hexdigest()\n",
    "        data = {'url': [url],\n",
    "        'hash_' + str(year) + str(month).zfill(2) : [hash]}\n",
    "        df = pd.DataFrame(data)\n",
    "        return df\n",
    "    else:\n",
    "        print(\"Failed to retrieve the webpage\")\n",
    "        return None\n"
   ]
  },
  {
   "cell_type": "code",
   "execution_count": 51,
   "id": "df7b90a8-e8c9-4aad-a7a8-611cd6025848",
   "metadata": {},
   "outputs": [],
   "source": [
    "website_url = [\"https://cce-datasharing.gsfc.nasa.gov/programs/meetings/6/h/0/\",\n",
    "\"https://cce-datasharing.gsfc.nasa.gov/programs/meetings/10/h/0/\",\n",
    "\"https://cce-datasharing.gsfc.nasa.gov/programs/announcements/24/html/1/\",\n",
    "\"https://science.nasa.gov/earth-science/focus-areas/carbon-cycle-and-ecosystems/\"\n",
    "]"
   ]
  },
  {
   "cell_type": "code",
   "execution_count": 67,
   "id": "b49f1789-4ea1-4878-a97c-206323de56cc",
   "metadata": {},
   "outputs": [],
   "source": [
    "# build dataframe\n",
    "columns = [f\"hash_{year}{str(month).zfill(2)}\" for year in range(2024, 2025) for month in range(1, 13)]\n",
    "columns.insert(0, 'url')\n",
    "df = pd.DataFrame(columns=columns)\n",
    "df['url'] = website_url\n",
    "os.makedirs('../data', exist_ok=True)\n",
    "out_csv = '../data/website_hash.csv'\n",
    "df.to_csv(out_csv, index=False )"
   ]
  },
  {
   "cell_type": "code",
   "execution_count": 52,
   "id": "ff5b5d7e-b7d6-412b-b8dd-bfce425db8e2",
   "metadata": {},
   "outputs": [],
   "source": [
    "current_time = datetime.now()\n",
    "year = current_time.year\n",
    "month = current_time.month\n",
    "all = []\n",
    "for url in website_url:\n",
    "    res = get_page_hash(url)\n",
    "    all.append(res)\n",
    "all = pd.concat(all, ignore_index=True)"
   ]
  },
  {
   "cell_type": "code",
   "execution_count": 68,
   "id": "7face7d3-3e52-4ee1-85a3-54060ac1bff9",
   "metadata": {},
   "outputs": [
    {
     "data": {
      "text/html": [
       "<div>\n",
       "<style scoped>\n",
       "    .dataframe tbody tr th:only-of-type {\n",
       "        vertical-align: middle;\n",
       "    }\n",
       "\n",
       "    .dataframe tbody tr th {\n",
       "        vertical-align: top;\n",
       "    }\n",
       "\n",
       "    .dataframe thead th {\n",
       "        text-align: right;\n",
       "    }\n",
       "</style>\n",
       "<table border=\"1\" class=\"dataframe\">\n",
       "  <thead>\n",
       "    <tr style=\"text-align: right;\">\n",
       "      <th></th>\n",
       "      <th>url</th>\n",
       "      <th>hash_202405</th>\n",
       "    </tr>\n",
       "  </thead>\n",
       "  <tbody>\n",
       "    <tr>\n",
       "      <th>0</th>\n",
       "      <td>https://cce-datasharing.gsfc.nasa.gov/programs...</td>\n",
       "      <td>51a674b59fa9c4e4e5ace30fadab54107e4a6db90e6a29...</td>\n",
       "    </tr>\n",
       "    <tr>\n",
       "      <th>1</th>\n",
       "      <td>https://cce-datasharing.gsfc.nasa.gov/programs...</td>\n",
       "      <td>e935d6cd1e7e38a59ae51055a976461bb5e455c1d1e397...</td>\n",
       "    </tr>\n",
       "    <tr>\n",
       "      <th>2</th>\n",
       "      <td>https://cce-datasharing.gsfc.nasa.gov/programs...</td>\n",
       "      <td>91d24224c6c304c6d37cfe68f68890cafefba3d1bb53c9...</td>\n",
       "    </tr>\n",
       "    <tr>\n",
       "      <th>3</th>\n",
       "      <td>https://science.nasa.gov/earth-science/focus-a...</td>\n",
       "      <td>5222dfb1cd07a7d893851c1049629c428164b9986187c2...</td>\n",
       "    </tr>\n",
       "  </tbody>\n",
       "</table>\n",
       "</div>"
      ],
      "text/plain": [
       "                                                 url  \\\n",
       "0  https://cce-datasharing.gsfc.nasa.gov/programs...   \n",
       "1  https://cce-datasharing.gsfc.nasa.gov/programs...   \n",
       "2  https://cce-datasharing.gsfc.nasa.gov/programs...   \n",
       "3  https://science.nasa.gov/earth-science/focus-a...   \n",
       "\n",
       "                                         hash_202405  \n",
       "0  51a674b59fa9c4e4e5ace30fadab54107e4a6db90e6a29...  \n",
       "1  e935d6cd1e7e38a59ae51055a976461bb5e455c1d1e397...  \n",
       "2  91d24224c6c304c6d37cfe68f68890cafefba3d1bb53c9...  \n",
       "3  5222dfb1cd07a7d893851c1049629c428164b9986187c2...  "
      ]
     },
     "execution_count": 68,
     "metadata": {},
     "output_type": "execute_result"
    }
   ],
   "source": [
    "all"
   ]
  },
  {
   "cell_type": "code",
   "execution_count": 73,
   "id": "a5a48e6f-802f-4d2a-a4cf-de87f2e15d18",
   "metadata": {},
   "outputs": [],
   "source": [
    "col = 'hash_' + str(year) + str(month).zfill(2)\n",
    "df[col] = all[col]"
   ]
  },
  {
   "cell_type": "code",
   "execution_count": 75,
   "id": "ee47f27e-a922-4b1e-acb0-cd08c4fe047e",
   "metadata": {},
   "outputs": [],
   "source": [
    "df.to_csv(out_csv, index=False )"
   ]
  },
  {
   "cell_type": "markdown",
   "id": "e58cfef4-91d6-4de9-becb-234086d7df5b",
   "metadata": {},
   "source": [
    "# run this one month later"
   ]
  },
  {
   "cell_type": "code",
   "execution_count": null,
   "id": "223b10ac-0c8a-48f9-9a7b-bac797d67868",
   "metadata": {},
   "outputs": [],
   "source": []
  }
 ],
 "metadata": {
  "kernelspec": {
   "display_name": "Python 3 (ipykernel)",
   "language": "python",
   "name": "python3"
  },
  "language_info": {
   "codemirror_mode": {
    "name": "ipython",
    "version": 3
   },
   "file_extension": ".py",
   "mimetype": "text/x-python",
   "name": "python",
   "nbconvert_exporter": "python",
   "pygments_lexer": "ipython3",
   "version": "3.11.4"
  }
 },
 "nbformat": 4,
 "nbformat_minor": 5
}
